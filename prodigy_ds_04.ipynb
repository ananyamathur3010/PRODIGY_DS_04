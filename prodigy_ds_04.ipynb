{
  "cells": [
    {
      "cell_type": "markdown",
      "metadata": {
        "id": "view-in-github",
        "colab_type": "text"
      },
      "source": [
        "<a href=\"https://colab.research.google.com/github/ananyamathur3010/PRODIGY_DS_04/blob/main/prodigy_ds_04.ipynb\" target=\"_parent\"><img src=\"https://colab.research.google.com/assets/colab-badge.svg\" alt=\"Open In Colab\"/></a>"
      ]
    },
    {
      "cell_type": "code",
      "execution_count": 1,
      "metadata": {
        "id": "UQ7xOgMGFM-S"
      },
      "outputs": [],
      "source": [
        "import pandas as pd\n",
        "import numpy as np\n",
        "import matplotlib.pyplot as plt\n",
        "import seaborn as sns"
      ]
    },
    {
      "cell_type": "code",
      "source": [
        "from google.colab import drive\n",
        "drive.mount('/content/drive')"
      ],
      "metadata": {
        "colab": {
          "base_uri": "https://localhost:8080/"
        },
        "id": "PyLs-tZm6GOy",
        "outputId": "1a0d9569-c422-4681-badd-b841c5ceec87"
      },
      "execution_count": 2,
      "outputs": [
        {
          "output_type": "stream",
          "name": "stdout",
          "text": [
            "Drive already mounted at /content/drive; to attempt to forcibly remount, call drive.mount(\"/content/drive\", force_remount=True).\n"
          ]
        }
      ]
    },
    {
      "cell_type": "code",
      "source": [
        "train_data = pd.read_csv(\"/content/drive/MyDrive/Colab Notebooks/twitter_training.csv\")\n",
        "validation_data = pd.read_csv(\"/content/drive/MyDrive/Colab Notebooks/twitter_validation.csv\")"
      ],
      "metadata": {
        "id": "2KRCzK3X5wZx"
      },
      "execution_count": 3,
      "outputs": []
    },
    {
      "cell_type": "code",
      "source": [
        "train_head = train_data.head()\n",
        "validation_head = validation_data.head()\n",
        "\n",
        "train_head, validation_head"
      ],
      "metadata": {
        "colab": {
          "base_uri": "https://localhost:8080/"
        },
        "id": "O1uLn-2_7Wx-",
        "outputId": "8b6c7d7d-e8bf-4140-f158-6a786b67a04a"
      },
      "execution_count": 4,
      "outputs": [
        {
          "output_type": "execute_result",
          "data": {
            "text/plain": [
              "(   2401  Borderlands  Positive  \\\n",
              " 0  2401  Borderlands  Positive   \n",
              " 1  2401  Borderlands  Positive   \n",
              " 2  2401  Borderlands  Positive   \n",
              " 3  2401  Borderlands  Positive   \n",
              " 4  2401  Borderlands  Positive   \n",
              " \n",
              "   im getting on borderlands and i will murder you all ,  \n",
              " 0  I am coming to the borders and I will kill you...     \n",
              " 1  im getting on borderlands and i will kill you ...     \n",
              " 2  im coming on borderlands and i will murder you...     \n",
              " 3  im getting on borderlands 2 and i will murder ...     \n",
              " 4  im getting into borderlands and i can murder y...     ,\n",
              "    3364   Facebook Irrelevant  \\\n",
              " 0   352     Amazon    Neutral   \n",
              " 1  8312  Microsoft   Negative   \n",
              " 2  4371      CS-GO   Negative   \n",
              " 3  4433     Google    Neutral   \n",
              " 4  6273       FIFA   Negative   \n",
              " \n",
              "   I mentioned on Facebook that I was struggling for motivation to go for a run the other day, which has been translated by Tom’s great auntie as ‘Hayley can’t get out of bed’ and told to his grandma, who now thinks I’m a lazy, terrible person 🤣  \n",
              " 0  BBC News - Amazon boss Jeff Bezos rejects clai...                                                                                                                                                                                                  \n",
              " 1  @Microsoft Why do I pay for WORD when it funct...                                                                                                                                                                                                  \n",
              " 2  CSGO matchmaking is so full of closet hacking,...                                                                                                                                                                                                  \n",
              " 3  Now the President is slapping Americans in the...                                                                                                                                                                                                  \n",
              " 4  Hi @EAHelp I’ve had Madeleine McCann in my cel...                                                                                                                                                                                                  )"
            ]
          },
          "metadata": {},
          "execution_count": 4
        }
      ]
    },
    {
      "cell_type": "code",
      "source": [
        "missing_train = train_data.isnull().sum()\n",
        "missing_validation = validation_data.isnull().sum()"
      ],
      "metadata": {
        "id": "gdY3R6Es7Zo8"
      },
      "execution_count": 5,
      "outputs": []
    },
    {
      "cell_type": "code",
      "source": [
        "duplicates_train = train_data.duplicated().sum()\n",
        "duplicates_validation = validation_data.duplicated().sum()\n",
        "\n",
        "missing_train, missing_validation, duplicates_train, duplicates_validation"
      ],
      "metadata": {
        "colab": {
          "base_uri": "https://localhost:8080/"
        },
        "id": "SdKakIrq7kBZ",
        "outputId": "06212307-1bf0-4318-e91d-7a65806c331f"
      },
      "execution_count": 6,
      "outputs": [
        {
          "output_type": "execute_result",
          "data": {
            "text/plain": [
              "(2401                                                       0\n",
              " Borderlands                                                0\n",
              " Positive                                                   0\n",
              " im getting on borderlands and i will murder you all ,    686\n",
              " dtype: int64,\n",
              " 3364                                                                                                                                                                                                                                                  0\n",
              " Facebook                                                                                                                                                                                                                                              0\n",
              " Irrelevant                                                                                                                                                                                                                                            0\n",
              " I mentioned on Facebook that I was struggling for motivation to go for a run the other day, which has been translated by Tom’s great auntie as ‘Hayley can’t get out of bed’ and told to his grandma, who now thinks I’m a lazy, terrible person 🤣    0\n",
              " dtype: int64,\n",
              " 2700,\n",
              " 0)"
            ]
          },
          "metadata": {},
          "execution_count": 6
        }
      ]
    },
    {
      "cell_type": "code",
      "source": [
        "train_sentiment_distribution = train_data.iloc[:, 2].value_counts()\n",
        "validation_sentiment_distribution = validation_data.iloc[:, 2].value_counts()\n",
        "# Checking the number of unique entities in the training set\n",
        "unique_entities_train = train_data.iloc[:, 1].nunique()\n",
        "\n",
        "train_sentiment_distribution, validation_sentiment_distribution, unique_entities_train"
      ],
      "metadata": {
        "colab": {
          "base_uri": "https://localhost:8080/"
        },
        "id": "yIzbul0d7sV-",
        "outputId": "3e546679-f0f0-468c-cfc7-d1130c5ce851"
      },
      "execution_count": 7,
      "outputs": [
        {
          "output_type": "execute_result",
          "data": {
            "text/plain": [
              "(Negative      22542\n",
              " Positive      20831\n",
              " Neutral       18318\n",
              " Irrelevant    12990\n",
              " Name: Positive, dtype: int64,\n",
              " Neutral       285\n",
              " Positive      277\n",
              " Negative      266\n",
              " Irrelevant    171\n",
              " Name: Irrelevant, dtype: int64,\n",
              " 32)"
            ]
          },
          "metadata": {},
          "execution_count": 7
        }
      ]
    },
    {
      "cell_type": "code",
      "source": [
        "# Set up the plots\n",
        "fig, ax = plt.subplots(1, 2, figsize=(15, 5))\n",
        "\n",
        "# Plot sentiment distribution for training data\n",
        "sns.countplot(data=train_data_cleaned, x=train_data_cleaned.columns[2], order=['Positive', 'Negative', 'Neutral', 'Irrelevant'], ax=ax[0])\n",
        "ax[0].set_title('Sentiment Distribution in Training Data')\n",
        "ax[0].set_ylabel('Count')\n",
        "ax[0].set_xlabel('Sentiment')\n",
        "\n",
        "# Plot sentiment distribution for validation data\n",
        "sns.countplot(data=validation_data, x=validation_data.columns[2], order=['Positive', 'Negative', 'Neutral', 'Irrelevant'], ax=ax[1])\n",
        "ax[1].set_title('Sentiment Distribution in Validation Data')\n",
        "ax[1].set_ylabel('Count')\n",
        "ax[1].set_xlabel('Sentiment')\n",
        "\n",
        "plt.tight_layout()\n",
        "plt.show()"
      ],
      "metadata": {
        "colab": {
          "base_uri": "https://localhost:8080/",
          "height": 645
        },
        "id": "sa-MrFTv7vEP",
        "outputId": "328a8b24-1677-4c3a-d8fa-47f61da3ebae"
      },
      "execution_count": 8,
      "outputs": [
        {
          "output_type": "error",
          "ename": "NameError",
          "evalue": "name 'train_data_cleaned' is not defined",
          "traceback": [
            "\u001b[0;31m---------------------------------------------------------------------------\u001b[0m",
            "\u001b[0;31mNameError\u001b[0m                                 Traceback (most recent call last)",
            "\u001b[0;32m<ipython-input-8-b80fef699113>\u001b[0m in \u001b[0;36m<cell line: 5>\u001b[0;34m()\u001b[0m\n\u001b[1;32m      3\u001b[0m \u001b[0;34m\u001b[0m\u001b[0m\n\u001b[1;32m      4\u001b[0m \u001b[0;31m# Plot sentiment distribution for training data\u001b[0m\u001b[0;34m\u001b[0m\u001b[0;34m\u001b[0m\u001b[0m\n\u001b[0;32m----> 5\u001b[0;31m \u001b[0msns\u001b[0m\u001b[0;34m.\u001b[0m\u001b[0mcountplot\u001b[0m\u001b[0;34m(\u001b[0m\u001b[0mdata\u001b[0m\u001b[0;34m=\u001b[0m\u001b[0mtrain_data_cleaned\u001b[0m\u001b[0;34m,\u001b[0m \u001b[0mx\u001b[0m\u001b[0;34m=\u001b[0m\u001b[0mtrain_data_cleaned\u001b[0m\u001b[0;34m.\u001b[0m\u001b[0mcolumns\u001b[0m\u001b[0;34m[\u001b[0m\u001b[0;36m2\u001b[0m\u001b[0;34m]\u001b[0m\u001b[0;34m,\u001b[0m \u001b[0morder\u001b[0m\u001b[0;34m=\u001b[0m\u001b[0;34m[\u001b[0m\u001b[0;34m'Positive'\u001b[0m\u001b[0;34m,\u001b[0m \u001b[0;34m'Negative'\u001b[0m\u001b[0;34m,\u001b[0m \u001b[0;34m'Neutral'\u001b[0m\u001b[0;34m,\u001b[0m \u001b[0;34m'Irrelevant'\u001b[0m\u001b[0;34m]\u001b[0m\u001b[0;34m,\u001b[0m \u001b[0max\u001b[0m\u001b[0;34m=\u001b[0m\u001b[0max\u001b[0m\u001b[0;34m[\u001b[0m\u001b[0;36m0\u001b[0m\u001b[0;34m]\u001b[0m\u001b[0;34m)\u001b[0m\u001b[0;34m\u001b[0m\u001b[0;34m\u001b[0m\u001b[0m\n\u001b[0m\u001b[1;32m      6\u001b[0m \u001b[0max\u001b[0m\u001b[0;34m[\u001b[0m\u001b[0;36m0\u001b[0m\u001b[0;34m]\u001b[0m\u001b[0;34m.\u001b[0m\u001b[0mset_title\u001b[0m\u001b[0;34m(\u001b[0m\u001b[0;34m'Sentiment Distribution in Training Data'\u001b[0m\u001b[0;34m)\u001b[0m\u001b[0;34m\u001b[0m\u001b[0;34m\u001b[0m\u001b[0m\n\u001b[1;32m      7\u001b[0m \u001b[0max\u001b[0m\u001b[0;34m[\u001b[0m\u001b[0;36m0\u001b[0m\u001b[0;34m]\u001b[0m\u001b[0;34m.\u001b[0m\u001b[0mset_ylabel\u001b[0m\u001b[0;34m(\u001b[0m\u001b[0;34m'Count'\u001b[0m\u001b[0;34m)\u001b[0m\u001b[0;34m\u001b[0m\u001b[0;34m\u001b[0m\u001b[0m\n",
            "\u001b[0;31mNameError\u001b[0m: name 'train_data_cleaned' is not defined"
          ]
        },
        {
          "output_type": "display_data",
          "data": {
            "text/plain": [
              "<Figure size 1500x500 with 2 Axes>"
            ],
            "image/png": "[encoded data removed]"
          },
          "metadata": {}
        }
      ]
    },
    {
      "cell_type": "code",
      "source": [
        "# Calculate the length of each message\n",
        "train_data_cleaned['message_length'] = train_data_cleaned[train_data_cleaned.columns[3]].apply(len)\n",
        "validation_data['message_length'] = validation_data[validation_data.columns[3]].apply(len)\n",
        "fig, ax = plt.subplots(1, 2, figsize=(15, 5))\n",
        "\n",
        "# Plot message length distribution for training data\n",
        "sns.histplot(train_data_cleaned['message_length'], bins=50, ax=ax[0], color='skyblue')\n",
        "ax[0].set_title('Message Length Distribution in Training Data')\n",
        "ax[0].set_ylabel('Frequency')\n",
        "ax[0].set_xlabel('Message Length')\n",
        "\n",
        "# Plot message length distribution for validation data\n",
        "sns.histplot(validation_data['message_length'], bins=50, ax=ax[1], color='salmon')\n",
        "ax[1].set_title('Message Length Distribution in Validation Data')\n",
        "ax[1].set_ylabel('Frequency')\n",
        "ax[1].set_xlabel('Message Length')\n",
        "\n",
        "plt.tight_layout()\n",
        "plt.show()"
      ],
      "metadata": {
        "colab": {
          "base_uri": "https://localhost:8080/",
          "height": 211
        },
        "id": "k-4DsmV18IN1",
        "outputId": "5a806a27-5735-475e-d91c-90b332b9f387"
      },
      "execution_count": 9,
      "outputs": [
        {
          "output_type": "error",
          "ename": "NameError",
          "evalue": "name 'train_data_cleaned' is not defined",
          "traceback": [
            "\u001b[0;31m---------------------------------------------------------------------------\u001b[0m",
            "\u001b[0;31mNameError\u001b[0m                                 Traceback (most recent call last)",
            "\u001b[0;32m<ipython-input-9-533a838711dc>\u001b[0m in \u001b[0;36m<cell line: 2>\u001b[0;34m()\u001b[0m\n\u001b[1;32m      1\u001b[0m \u001b[0;31m# Calculate the length of each message\u001b[0m\u001b[0;34m\u001b[0m\u001b[0;34m\u001b[0m\u001b[0m\n\u001b[0;32m----> 2\u001b[0;31m \u001b[0mtrain_data_cleaned\u001b[0m\u001b[0;34m[\u001b[0m\u001b[0;34m'message_length'\u001b[0m\u001b[0;34m]\u001b[0m \u001b[0;34m=\u001b[0m \u001b[0mtrain_data_cleaned\u001b[0m\u001b[0;34m[\u001b[0m\u001b[0mtrain_data_cleaned\u001b[0m\u001b[0;34m.\u001b[0m\u001b[0mcolumns\u001b[0m\u001b[0;34m[\u001b[0m\u001b[0;36m3\u001b[0m\u001b[0;34m]\u001b[0m\u001b[0;34m]\u001b[0m\u001b[0;34m.\u001b[0m\u001b[0mapply\u001b[0m\u001b[0;34m(\u001b[0m\u001b[0mlen\u001b[0m\u001b[0;34m)\u001b[0m\u001b[0;34m\u001b[0m\u001b[0;34m\u001b[0m\u001b[0m\n\u001b[0m\u001b[1;32m      3\u001b[0m \u001b[0mvalidation_data\u001b[0m\u001b[0;34m[\u001b[0m\u001b[0;34m'message_length'\u001b[0m\u001b[0;34m]\u001b[0m \u001b[0;34m=\u001b[0m \u001b[0mvalidation_data\u001b[0m\u001b[0;34m[\u001b[0m\u001b[0mvalidation_data\u001b[0m\u001b[0;34m.\u001b[0m\u001b[0mcolumns\u001b[0m\u001b[0;34m[\u001b[0m\u001b[0;36m3\u001b[0m\u001b[0;34m]\u001b[0m\u001b[0;34m]\u001b[0m\u001b[0;34m.\u001b[0m\u001b[0mapply\u001b[0m\u001b[0;34m(\u001b[0m\u001b[0mlen\u001b[0m\u001b[0;34m)\u001b[0m\u001b[0;34m\u001b[0m\u001b[0;34m\u001b[0m\u001b[0m\n\u001b[1;32m      4\u001b[0m \u001b[0mfig\u001b[0m\u001b[0;34m,\u001b[0m \u001b[0max\u001b[0m \u001b[0;34m=\u001b[0m \u001b[0mplt\u001b[0m\u001b[0;34m.\u001b[0m\u001b[0msubplots\u001b[0m\u001b[0;34m(\u001b[0m\u001b[0;36m1\u001b[0m\u001b[0;34m,\u001b[0m \u001b[0;36m2\u001b[0m\u001b[0;34m,\u001b[0m \u001b[0mfigsize\u001b[0m\u001b[0;34m=\u001b[0m\u001b[0;34m(\u001b[0m\u001b[0;36m15\u001b[0m\u001b[0;34m,\u001b[0m \u001b[0;36m5\u001b[0m\u001b[0;34m)\u001b[0m\u001b[0;34m)\u001b[0m\u001b[0;34m\u001b[0m\u001b[0;34m\u001b[0m\u001b[0m\n\u001b[1;32m      5\u001b[0m \u001b[0;34m\u001b[0m\u001b[0m\n",
            "\u001b[0;31mNameError\u001b[0m: name 'train_data_cleaned' is not defined"
          ]
        }
      ]
    }
  ],
  "metadata": {
    "colab": {
      "provenance": [],
      "mount_file_id": "1kxCabPH7s6YgY-S91sG1xiKnD0U3G9s3",
      "authorship_tag": "ABX9TyNdqNU59z60vQ/8FSgSwiz/",
      "include_colab_link": true
    },
    "kernelspec": {
      "display_name": "Python 3",
      "name": "python3"
    },
    "language_info": {
      "name": "python"
    }
  },
  "nbformat": 4,
  "nbformat_minor": 0
}